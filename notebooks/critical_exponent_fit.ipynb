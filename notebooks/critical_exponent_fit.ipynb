{
 "cells": [
  {
   "attachments": {},
   "cell_type": "markdown",
   "metadata": {},
   "source": [
    "# Critical Exponent Fit\n",
    "\n",
    "In this notebook we fit power law to our transient lifetime means."
   ]
  },
  {
   "attachments": {},
   "cell_type": "markdown",
   "metadata": {},
   "source": [
    "## Imports"
   ]
  },
  {
   "cell_type": "code",
   "execution_count": 1,
   "metadata": {},
   "outputs": [
    {
     "name": "stdout",
     "output_type": "stream",
     "text": [
      "/Users/cfn18/Documents/PhD-Work/Thesis-Computing/Determinisitc/l96_ebm_boundary_crisis\n"
     ]
    }
   ],
   "source": [
    "# Assume we're running from project root\n",
    "%cd .. "
   ]
  },
  {
   "cell_type": "code",
   "execution_count": 4,
   "metadata": {},
   "outputs": [],
   "source": [
    "# Local imports\n",
    "from src.transient_lifetimes import TransientLifetimes\n",
    "\n",
    "# Other imports\n",
    "from pathlib import Path\n",
    "import matplotlib.pyplot as plt\n",
    "import pandas as pd"
   ]
  },
  {
   "attachments": {},
   "cell_type": "markdown",
   "metadata": {},
   "source": [
    "## Plot/Data Locations"
   ]
  },
  {
   "cell_type": "code",
   "execution_count": 6,
   "metadata": {},
   "outputs": [],
   "source": [
    "plot_pd = Path('plots')\n",
    "data_pd = Path('data')\n",
    "config_pd = Path('cfg')"
   ]
  },
  {
   "attachments": {},
   "cell_type": "markdown",
   "metadata": {},
   "source": [
    "## Project work"
   ]
  },
  {
   "cell_type": "code",
   "execution_count": 8,
   "metadata": {},
   "outputs": [
    {
     "ename": "NameError",
     "evalue": "name 'pd' is not defined",
     "output_type": "error",
     "traceback": [
      "\u001b[0;31m---------------------------------------------------------------------------\u001b[0m",
      "\u001b[0;31mNameError\u001b[0m                                 Traceback (most recent call last)",
      "Cell \u001b[0;32mIn[8], line 2\u001b[0m\n\u001b[1;32m      1\u001b[0m csv_file \u001b[39m=\u001b[39m data_pd\u001b[39m/\u001b[39m\u001b[39m'\u001b[39m\u001b[39mtransient_lifetimes.csv\u001b[39m\u001b[39m'\u001b[39m\n\u001b[0;32m----> 2\u001b[0m SBTransientLifetimes \u001b[39m=\u001b[39m TransientLifetimes(csv_file, \u001b[39m\"\u001b[39;49m\u001b[39msb\u001b[39;49m\u001b[39m\"\u001b[39;49m, \u001b[39m14.9\u001b[39;49m)\n\u001b[1;32m      3\u001b[0m WTransientLifetimes \u001b[39m=\u001b[39m TransientLifetimes(csv_file, \u001b[39m\"\u001b[39m\u001b[39mw\u001b[39m\u001b[39m\"\u001b[39m, \u001b[39m7.9\u001b[39m)\n\u001b[1;32m      4\u001b[0m WTransientLifetimes\u001b[39m.\u001b[39mcritical_exponent_fit_plot()\n",
      "File \u001b[0;32m~/Documents/PhD-Work/Thesis-Computing/Determinisitc/l96_ebm_boundary_crisis/src/transient_lifetimes.py:10\u001b[0m, in \u001b[0;36mTransientLifetimes.__init__\u001b[0;34m(self, csv_file, dissapearing_attractor, S_crit)\u001b[0m\n\u001b[1;32m      8\u001b[0m \u001b[39mself\u001b[39m\u001b[39m.\u001b[39mfile \u001b[39m=\u001b[39m csv_file\n\u001b[1;32m      9\u001b[0m \u001b[39mself\u001b[39m\u001b[39m.\u001b[39mdissapearing_attractor \u001b[39m=\u001b[39m dissapearing_attractor\n\u001b[0;32m---> 10\u001b[0m \u001b[39mself\u001b[39m\u001b[39m.\u001b[39mds \u001b[39m=\u001b[39m \u001b[39mself\u001b[39;49m\u001b[39m.\u001b[39;49mload_ds(csv_file, dissapearing_attractor, S_crit)\n\u001b[1;32m     11\u001b[0m \u001b[39mself\u001b[39m\u001b[39m.\u001b[39mdefault_S_list \u001b[39m=\u001b[39m \u001b[39mself\u001b[39m\u001b[39m.\u001b[39mds\u001b[39m.\u001b[39mS\u001b[39m.\u001b[39munique()\n",
      "File \u001b[0;32m~/Documents/PhD-Work/Thesis-Computing/Determinisitc/l96_ebm_boundary_crisis/src/transient_lifetimes.py:19\u001b[0m, in \u001b[0;36mTransientLifetimes.load_ds\u001b[0;34m(self, csv_file, dissapearing_attractor, S_crit)\u001b[0m\n\u001b[1;32m     18\u001b[0m \u001b[39mdef\u001b[39;00m \u001b[39mload_ds\u001b[39m(\u001b[39mself\u001b[39m, csv_file, dissapearing_attractor, S_crit):\n\u001b[0;32m---> 19\u001b[0m     ds \u001b[39m=\u001b[39m pd\u001b[39m.\u001b[39mread_csv(csv_file)[[\u001b[39m\"\u001b[39m\u001b[39mS\u001b[39m\u001b[39m\"\u001b[39m, \u001b[39m\"\u001b[39m\u001b[39mdissapearing_attractor\u001b[39m\u001b[39m\"\u001b[39m, \u001b[39m\"\u001b[39m\u001b[39mtipping_time\u001b[39m\u001b[39m\"\u001b[39m]]\n\u001b[1;32m     20\u001b[0m     ds\u001b[39m.\u001b[39mS_crit \u001b[39m=\u001b[39m S_crit\n\u001b[1;32m     21\u001b[0m     ds[\u001b[39m\"\u001b[39m\u001b[39mdistance_from_crit\u001b[39m\u001b[39m\"\u001b[39m] \u001b[39m=\u001b[39m (ds\u001b[39m.\u001b[39mS \u001b[39m-\u001b[39m S_crit)\u001b[39m.\u001b[39mabs()\n",
      "\u001b[0;31mNameError\u001b[0m: name 'pd' is not defined"
     ]
    }
   ],
   "source": [
    "csv_file = data_pd/'transient_lifetimes.csv'\n",
    "SBTransientLifetimes = TransientLifetimes(csv_file, \"sb\", 14.9)\n",
    "WTransientLifetimes = TransientLifetimes(csv_file, \"w\", 7.9)\n",
    "WTransientLifetimes.critical_exponent_fit_plot()"
   ]
  }
 ],
 "metadata": {
  "kernelspec": {
   "display_name": "l96_ebm",
   "language": "python",
   "name": "python3"
  },
  "language_info": {
   "codemirror_mode": {
    "name": "ipython",
    "version": 3
   },
   "file_extension": ".py",
   "mimetype": "text/x-python",
   "name": "python",
   "nbconvert_exporter": "python",
   "pygments_lexer": "ipython3",
   "version": "3.10.9"
  },
  "orig_nbformat": 4,
  "vscode": {
   "interpreter": {
    "hash": "5fe57a62c4c10bf3a95c6a2647d47d871b8e69217ef730b6554b29c7e8c3e9f2"
   }
  }
 },
 "nbformat": 4,
 "nbformat_minor": 2
}
