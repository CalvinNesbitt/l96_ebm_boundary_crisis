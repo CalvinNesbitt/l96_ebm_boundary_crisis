{
 "cells": [
  {
   "attachments": {},
   "cell_type": "markdown",
   "metadata": {},
   "source": [
    "# Critical Exponent Fit\n",
    "\n",
    "In this notebook we fit power law to our transient lifetime means."
   ]
  },
  {
   "attachments": {},
   "cell_type": "markdown",
   "metadata": {},
   "source": [
    "## Imports"
   ]
  },
  {
   "cell_type": "code",
   "execution_count": 1,
   "metadata": {},
   "outputs": [
    {
     "name": "stdout",
     "output_type": "stream",
     "text": [
      "/Users/cfn18/Documents/PhD-Work/Thesis-Computing/Determinisitc/l96_ebm_boundary_crisis\n"
     ]
    }
   ],
   "source": [
    "# Assume we're running from project root\n",
    "%cd .. "
   ]
  },
  {
   "cell_type": "code",
   "execution_count": 2,
   "metadata": {},
   "outputs": [],
   "source": [
    "# Local imports\n",
    "from src.transient_lifetimes import TransientLifetimes\n",
    "\n",
    "# Other imports\n",
    "from pathlib import Path\n",
    "import matplotlib.pyplot as plt\n",
    "import pandas as pd"
   ]
  },
  {
   "attachments": {},
   "cell_type": "markdown",
   "metadata": {},
   "source": [
    "## Plot/Data Locations"
   ]
  },
  {
   "cell_type": "code",
   "execution_count": 3,
   "metadata": {},
   "outputs": [],
   "source": [
    "plot_pd = Path('plots')\n",
    "data_pd = Path('data')\n",
    "config_pd = Path('cfg')"
   ]
  },
  {
   "attachments": {},
   "cell_type": "markdown",
   "metadata": {},
   "source": [
    "## Critical Exponent Fit"
   ]
  },
  {
   "cell_type": "code",
   "execution_count": 4,
   "metadata": {},
   "outputs": [],
   "source": [
    "# Load lifetime data\n",
    "\n",
    "csv_file = data_pd/'transient_lifetimes.csv'\n",
    "SBTransientLifetimes = TransientLifetimes(csv_file, \"sb\", 14.9)\n",
    "WTransientLifetimes = TransientLifetimes(csv_file, \"w\", 7.9)"
   ]
  },
  {
   "cell_type": "code",
   "execution_count": 5,
   "metadata": {},
   "outputs": [
    {
     "data": {
      "text/html": [
       "<div>\n",
       "<style scoped>\n",
       "    .dataframe tbody tr th:only-of-type {\n",
       "        vertical-align: middle;\n",
       "    }\n",
       "\n",
       "    .dataframe tbody tr th {\n",
       "        vertical-align: top;\n",
       "    }\n",
       "\n",
       "    .dataframe thead th {\n",
       "        text-align: right;\n",
       "    }\n",
       "</style>\n",
       "<table border=\"1\" class=\"dataframe\">\n",
       "  <thead>\n",
       "    <tr style=\"text-align: right;\">\n",
       "      <th></th>\n",
       "      <th>distance_from_crit</th>\n",
       "      <th>mean_tipping_time</th>\n",
       "      <th>standard_error</th>\n",
       "      <th>sample_size</th>\n",
       "    </tr>\n",
       "    <tr>\n",
       "      <th>S</th>\n",
       "      <th></th>\n",
       "      <th></th>\n",
       "      <th></th>\n",
       "      <th></th>\n",
       "    </tr>\n",
       "  </thead>\n",
       "  <tbody>\n",
       "    <tr>\n",
       "      <th>7.500000</th>\n",
       "      <td>0.400000</td>\n",
       "      <td>8.273200</td>\n",
       "      <td>0.016546</td>\n",
       "      <td>500</td>\n",
       "    </tr>\n",
       "    <tr>\n",
       "      <th>7.533333</th>\n",
       "      <td>0.366667</td>\n",
       "      <td>12.500601</td>\n",
       "      <td>0.025051</td>\n",
       "      <td>499</td>\n",
       "    </tr>\n",
       "    <tr>\n",
       "      <th>7.566667</th>\n",
       "      <td>0.333333</td>\n",
       "      <td>18.609400</td>\n",
       "      <td>0.037219</td>\n",
       "      <td>500</td>\n",
       "    </tr>\n",
       "    <tr>\n",
       "      <th>7.600000</th>\n",
       "      <td>0.300000</td>\n",
       "      <td>32.010020</td>\n",
       "      <td>0.064148</td>\n",
       "      <td>499</td>\n",
       "    </tr>\n",
       "    <tr>\n",
       "      <th>7.633333</th>\n",
       "      <td>0.266667</td>\n",
       "      <td>59.702000</td>\n",
       "      <td>0.119404</td>\n",
       "      <td>500</td>\n",
       "    </tr>\n",
       "    <tr>\n",
       "      <th>7.666667</th>\n",
       "      <td>0.233333</td>\n",
       "      <td>148.790400</td>\n",
       "      <td>0.297581</td>\n",
       "      <td>500</td>\n",
       "    </tr>\n",
       "    <tr>\n",
       "      <th>7.700000</th>\n",
       "      <td>0.200000</td>\n",
       "      <td>453.079600</td>\n",
       "      <td>0.906159</td>\n",
       "      <td>500</td>\n",
       "    </tr>\n",
       "    <tr>\n",
       "      <th>7.733333</th>\n",
       "      <td>0.166667</td>\n",
       "      <td>1429.804409</td>\n",
       "      <td>2.865339</td>\n",
       "      <td>499</td>\n",
       "    </tr>\n",
       "    <tr>\n",
       "      <th>7.766667</th>\n",
       "      <td>0.133333</td>\n",
       "      <td>5166.124649</td>\n",
       "      <td>10.352955</td>\n",
       "      <td>499</td>\n",
       "    </tr>\n",
       "    <tr>\n",
       "      <th>7.800000</th>\n",
       "      <td>0.100000</td>\n",
       "      <td>21955.370103</td>\n",
       "      <td>45.268804</td>\n",
       "      <td>485</td>\n",
       "    </tr>\n",
       "  </tbody>\n",
       "</table>\n",
       "</div>"
      ],
      "text/plain": [
       "          distance_from_crit  mean_tipping_time  standard_error  sample_size\n",
       "S                                                                           \n",
       "7.500000            0.400000           8.273200        0.016546          500\n",
       "7.533333            0.366667          12.500601        0.025051          499\n",
       "7.566667            0.333333          18.609400        0.037219          500\n",
       "7.600000            0.300000          32.010020        0.064148          499\n",
       "7.633333            0.266667          59.702000        0.119404          500\n",
       "7.666667            0.233333         148.790400        0.297581          500\n",
       "7.700000            0.200000         453.079600        0.906159          500\n",
       "7.733333            0.166667        1429.804409        2.865339          499\n",
       "7.766667            0.133333        5166.124649       10.352955          499\n",
       "7.800000            0.100000       21955.370103       45.268804          485"
      ]
     },
     "execution_count": 5,
     "metadata": {},
     "output_type": "execute_result"
    }
   ],
   "source": [
    "WTransientLifetimes.mean_lifetimes()"
   ]
  },
  {
   "cell_type": "code",
   "execution_count": 6,
   "metadata": {},
   "outputs": [
    {
     "data": {
      "image/png": "[encoded data removed]",
      "text/plain": [
       "<Figure size 401.569x248.183 with 1 Axes>"
      ]
     },
     "metadata": {},
     "output_type": "display_data"
    }
   ],
   "source": [
    "fig, ax = WTransientLifetimes.critical_exponent_fit_plot()\n",
    "fig.tight_layout()\n",
    "fig.savefig(plot_pd/'S_W_to_SB_critical_exponent_fit.pdf')"
   ]
  }
 ],
 "metadata": {
  "kernelspec": {
   "display_name": "l96_ebm",
   "language": "python",
   "name": "python3"
  },
  "language_info": {
   "codemirror_mode": {
    "name": "ipython",
    "version": 3
   },
   "file_extension": ".py",
   "mimetype": "text/x-python",
   "name": "python",
   "nbconvert_exporter": "python",
   "pygments_lexer": "ipython3",
   "version": "3.10.9"
  },
  "orig_nbformat": 4,
  "vscode": {
   "interpreter": {
    "hash": "5fe57a62c4c10bf3a95c6a2647d47d871b8e69217ef730b6554b29c7e8c3e9f2"
   }
  }
 },
 "nbformat": 4,
 "nbformat_minor": 2
}
