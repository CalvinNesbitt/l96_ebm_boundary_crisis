{
 "cells": [
  {
   "attachments": {},
   "cell_type": "markdown",
   "metadata": {},
   "source": [
    "# Example Transients\n",
    "\n",
    "In this notebook we plot some example transient timeseries."
   ]
  },
  {
   "attachments": {},
   "cell_type": "markdown",
   "metadata": {},
   "source": [
    "## Imports"
   ]
  },
  {
   "cell_type": "code",
   "execution_count": 1,
   "metadata": {},
   "outputs": [
    {
     "name": "stdout",
     "output_type": "stream",
     "text": [
      "/Users/cfn18/Documents/PhD-Work/Thesis-Computing/Determinisitc/l96_ebm_boundary_crisis\n"
     ]
    }
   ],
   "source": [
    "# Assume we're running from project root\n",
    "%cd .. "
   ]
  },
  {
   "cell_type": "code",
   "execution_count": 2,
   "metadata": {},
   "outputs": [],
   "source": [
    "# Local imports\n",
    "# from src.foo import bar\n",
    "\n",
    "# Custom Code Imports\n",
    "from l96_ebm.deterministic.integrator import L96_EBM_Integrator, L96_EBM_TrajectoryObserver\n",
    "from calvin_stats.plots import init_2d_fax\n",
    "\n",
    "# Other imports\n",
    "from pathlib import Path"
   ]
  },
  {
   "attachments": {},
   "cell_type": "markdown",
   "metadata": {},
   "source": [
    "## Plot/Data Locations"
   ]
  },
  {
   "cell_type": "code",
   "execution_count": 3,
   "metadata": {},
   "outputs": [],
   "source": [
    "# plot_pd = Path('plots')\n",
    "plot_pd = Path('/Users/cfn18/Documents/PhD-Work/Thesis/img/Tipping-Points/')\n",
    "data_pd = Path('data')\n",
    "config_pd = Path('cfg')"
   ]
  },
  {
   "cell_type": "code",
   "execution_count": 13,
   "metadata": {},
   "outputs": [
    {
     "name": "stderr",
     "output_type": "stream",
     "text": [
      "  0%|          | 1067/50000000 [00:02<36:07:58, 384.37it/s]\n"
     ]
    },
    {
     "ename": "KeyboardInterrupt",
     "evalue": "",
     "output_type": "error",
     "traceback": [
      "\u001b[0;31m---------------------------------------------------------------------------\u001b[0m",
      "\u001b[0;31mKeyboardInterrupt\u001b[0m                         Traceback (most recent call last)",
      "Cell \u001b[0;32mIn[13], line 6\u001b[0m\n\u001b[1;32m      4\u001b[0m runner\u001b[39m.\u001b[39mtime\u001b[39m=\u001b[39m\u001b[39m0\u001b[39m\n\u001b[1;32m      5\u001b[0m looker \u001b[39m=\u001b[39m L96_EBM_TrajectoryObserver(runner)\n\u001b[0;32m----> 6\u001b[0m looker\u001b[39m.\u001b[39;49mmake_observations(\u001b[39mint\u001b[39;49m(\u001b[39m5.e7\u001b[39;49m), \u001b[39m0.1\u001b[39;49m)\n\u001b[1;32m      8\u001b[0m \u001b[39m# Plotting T timeseries\u001b[39;00m\n\u001b[1;32m      9\u001b[0m fig, ax \u001b[39m=\u001b[39m init_2d_fax()\n",
      "File \u001b[0;32m~/Documents/PhD-Work/packages/chaos_explorer/chaos_explorer/observers/xarray.py:26\u001b[0m, in \u001b[0;36mXarrayObserver.make_observations\u001b[0;34m(self, number, frequency, timer)\u001b[0m\n\u001b[1;32m     24\u001b[0m \u001b[39mself\u001b[39m\u001b[39m.\u001b[39mlook(\u001b[39mself\u001b[39m\u001b[39m.\u001b[39mintegrator)  \u001b[39m# Initial observation\u001b[39;00m\n\u001b[1;32m     25\u001b[0m \u001b[39mfor\u001b[39;00m x \u001b[39min\u001b[39;00m tqdm(\u001b[39mrange\u001b[39m(number), disable\u001b[39m=\u001b[39m\u001b[39mnot\u001b[39;00m timer):\n\u001b[0;32m---> 26\u001b[0m     \u001b[39mself\u001b[39;49m\u001b[39m.\u001b[39;49mintegrator\u001b[39m.\u001b[39;49mrun(frequency)\n\u001b[1;32m     27\u001b[0m     \u001b[39mself\u001b[39m\u001b[39m.\u001b[39mlook(\u001b[39mself\u001b[39m\u001b[39m.\u001b[39mintegrator)\n\u001b[1;32m     28\u001b[0m \u001b[39mreturn\u001b[39;00m\n",
      "File \u001b[0;32m~/Documents/PhD-Work/packages/chaos_explorer/chaos_explorer/integrator.py:77\u001b[0m, in \u001b[0;36mOdeIntegrator.run\u001b[0;34m(self, t)\u001b[0m\n\u001b[1;32m     62\u001b[0m \u001b[39m\u001b[39m\u001b[39m\"\"\"\u001b[39;00m\n\u001b[1;32m     63\u001b[0m \u001b[39mIntegrate ODEs for a time t. This will update both .state and .time attributes.\u001b[39;00m\n\u001b[1;32m     64\u001b[0m \n\u001b[0;32m   (...)\u001b[0m\n\u001b[1;32m     73\u001b[0m \n\u001b[1;32m     74\u001b[0m \u001b[39m\"\"\"\u001b[39;00m\n\u001b[1;32m     76\u001b[0m \u001b[39m# Integration, default uses RK45 with adaptive stepping.\u001b[39;00m\n\u001b[0;32m---> 77\u001b[0m solver_return \u001b[39m=\u001b[39m solve_ivp(\n\u001b[1;32m     78\u001b[0m     \u001b[39mself\u001b[39;49m\u001b[39m.\u001b[39;49m_rhs_dt,\n\u001b[1;32m     79\u001b[0m     (\u001b[39mself\u001b[39;49m\u001b[39m.\u001b[39;49mtime, \u001b[39mself\u001b[39;49m\u001b[39m.\u001b[39;49mtime \u001b[39m+\u001b[39;49m t),\n\u001b[1;32m     80\u001b[0m     \u001b[39mself\u001b[39;49m\u001b[39m.\u001b[39;49mstate,\n\u001b[1;32m     81\u001b[0m     dense_output\u001b[39m=\u001b[39;49m\u001b[39mTrue\u001b[39;49;00m,\n\u001b[1;32m     82\u001b[0m     method\u001b[39m=\u001b[39;49m\u001b[39mself\u001b[39;49m\u001b[39m.\u001b[39;49mmethod,\n\u001b[1;32m     83\u001b[0m )\n\u001b[1;32m     85\u001b[0m \u001b[39m# Updating variables\u001b[39;00m\n\u001b[1;32m     86\u001b[0m \u001b[39mself\u001b[39m\u001b[39m.\u001b[39mstate \u001b[39m=\u001b[39m solver_return\u001b[39m.\u001b[39my[:, \u001b[39m-\u001b[39m\u001b[39m1\u001b[39m]\n",
      "File \u001b[0;32m~/opt/miniconda3/envs/l96_ebm/lib/python3.10/site-packages/scipy/integrate/_ivp/ivp.py:555\u001b[0m, in \u001b[0;36msolve_ivp\u001b[0;34m(fun, t_span, y0, method, t_eval, dense_output, events, vectorized, args, **options)\u001b[0m\n\u001b[1;32m    552\u001b[0m \u001b[39mif\u001b[39;00m method \u001b[39min\u001b[39;00m METHODS:\n\u001b[1;32m    553\u001b[0m     method \u001b[39m=\u001b[39m METHODS[method]\n\u001b[0;32m--> 555\u001b[0m solver \u001b[39m=\u001b[39m method(fun, t0, y0, tf, vectorized\u001b[39m=\u001b[39;49mvectorized, \u001b[39m*\u001b[39;49m\u001b[39m*\u001b[39;49moptions)\n\u001b[1;32m    557\u001b[0m \u001b[39mif\u001b[39;00m t_eval \u001b[39mis\u001b[39;00m \u001b[39mNone\u001b[39;00m:\n\u001b[1;32m    558\u001b[0m     ts \u001b[39m=\u001b[39m [t0]\n",
      "File \u001b[0;32m~/opt/miniconda3/envs/l96_ebm/lib/python3.10/site-packages/scipy/integrate/_ivp/rk.py:96\u001b[0m, in \u001b[0;36mRungeKutta.__init__\u001b[0;34m(self, fun, t0, y0, t_bound, max_step, rtol, atol, vectorized, first_step, **extraneous)\u001b[0m\n\u001b[1;32m     94\u001b[0m \u001b[39mself\u001b[39m\u001b[39m.\u001b[39mf \u001b[39m=\u001b[39m \u001b[39mself\u001b[39m\u001b[39m.\u001b[39mfun(\u001b[39mself\u001b[39m\u001b[39m.\u001b[39mt, \u001b[39mself\u001b[39m\u001b[39m.\u001b[39my)\n\u001b[1;32m     95\u001b[0m \u001b[39mif\u001b[39;00m first_step \u001b[39mis\u001b[39;00m \u001b[39mNone\u001b[39;00m:\n\u001b[0;32m---> 96\u001b[0m     \u001b[39mself\u001b[39m\u001b[39m.\u001b[39mh_abs \u001b[39m=\u001b[39m select_initial_step(\n\u001b[1;32m     97\u001b[0m         \u001b[39mself\u001b[39;49m\u001b[39m.\u001b[39;49mfun, \u001b[39mself\u001b[39;49m\u001b[39m.\u001b[39;49mt, \u001b[39mself\u001b[39;49m\u001b[39m.\u001b[39;49my, \u001b[39mself\u001b[39;49m\u001b[39m.\u001b[39;49mf, \u001b[39mself\u001b[39;49m\u001b[39m.\u001b[39;49mdirection,\n\u001b[1;32m     98\u001b[0m         \u001b[39mself\u001b[39;49m\u001b[39m.\u001b[39;49merror_estimator_order, \u001b[39mself\u001b[39;49m\u001b[39m.\u001b[39;49mrtol, \u001b[39mself\u001b[39;49m\u001b[39m.\u001b[39;49matol)\n\u001b[1;32m     99\u001b[0m \u001b[39melse\u001b[39;00m:\n\u001b[1;32m    100\u001b[0m     \u001b[39mself\u001b[39m\u001b[39m.\u001b[39mh_abs \u001b[39m=\u001b[39m validate_first_step(first_step, t0, t_bound)\n",
      "File \u001b[0;32m~/opt/miniconda3/envs/l96_ebm/lib/python3.10/site-packages/scipy/integrate/_ivp/common.py:113\u001b[0m, in \u001b[0;36mselect_initial_step\u001b[0;34m(fun, t0, y0, f0, direction, order, rtol, atol)\u001b[0m\n\u001b[1;32m    110\u001b[0m     h0 \u001b[39m=\u001b[39m \u001b[39m0.01\u001b[39m \u001b[39m*\u001b[39m d0 \u001b[39m/\u001b[39m d1\n\u001b[1;32m    112\u001b[0m y1 \u001b[39m=\u001b[39m y0 \u001b[39m+\u001b[39m h0 \u001b[39m*\u001b[39m direction \u001b[39m*\u001b[39m f0\n\u001b[0;32m--> 113\u001b[0m f1 \u001b[39m=\u001b[39m fun(t0 \u001b[39m+\u001b[39;49m h0 \u001b[39m*\u001b[39;49m direction, y1)\n\u001b[1;32m    114\u001b[0m d2 \u001b[39m=\u001b[39m norm((f1 \u001b[39m-\u001b[39m f0) \u001b[39m/\u001b[39m scale) \u001b[39m/\u001b[39m h0\n\u001b[1;32m    116\u001b[0m \u001b[39mif\u001b[39;00m d1 \u001b[39m<\u001b[39m\u001b[39m=\u001b[39m \u001b[39m1e-15\u001b[39m \u001b[39mand\u001b[39;00m d2 \u001b[39m<\u001b[39m\u001b[39m=\u001b[39m \u001b[39m1e-15\u001b[39m:\n",
      "File \u001b[0;32m~/opt/miniconda3/envs/l96_ebm/lib/python3.10/site-packages/scipy/integrate/_ivp/base.py:138\u001b[0m, in \u001b[0;36mOdeSolver.__init__.<locals>.fun\u001b[0;34m(t, y)\u001b[0m\n\u001b[1;32m    136\u001b[0m \u001b[39mdef\u001b[39;00m \u001b[39mfun\u001b[39m(t, y):\n\u001b[1;32m    137\u001b[0m     \u001b[39mself\u001b[39m\u001b[39m.\u001b[39mnfev \u001b[39m+\u001b[39m\u001b[39m=\u001b[39m \u001b[39m1\u001b[39m\n\u001b[0;32m--> 138\u001b[0m     \u001b[39mreturn\u001b[39;00m \u001b[39mself\u001b[39;49m\u001b[39m.\u001b[39;49mfun_single(t, y)\n",
      "File \u001b[0;32m~/opt/miniconda3/envs/l96_ebm/lib/python3.10/site-packages/scipy/integrate/_ivp/base.py:20\u001b[0m, in \u001b[0;36mcheck_arguments.<locals>.fun_wrapped\u001b[0;34m(t, y)\u001b[0m\n\u001b[1;32m     19\u001b[0m \u001b[39mdef\u001b[39;00m \u001b[39mfun_wrapped\u001b[39m(t, y):\n\u001b[0;32m---> 20\u001b[0m     \u001b[39mreturn\u001b[39;00m np\u001b[39m.\u001b[39masarray(fun(t, y), dtype\u001b[39m=\u001b[39mdtype)\n",
      "File \u001b[0;32m~/Documents/PhD-Work/packages/chaos_explorer/chaos_explorer/integrator.py:59\u001b[0m, in \u001b[0;36mOdeIntegrator._rhs_dt\u001b[0;34m(self, t, state)\u001b[0m\n\u001b[1;32m     58\u001b[0m \u001b[39mdef\u001b[39;00m \u001b[39m_rhs_dt\u001b[39m(\u001b[39mself\u001b[39m, t, state):\n\u001b[0;32m---> 59\u001b[0m     \u001b[39mreturn\u001b[39;00m \u001b[39mself\u001b[39;49m\u001b[39m.\u001b[39;49mrhs(state, \u001b[39m*\u001b[39;49m\u001b[39m*\u001b[39;49m\u001b[39mself\u001b[39;49m\u001b[39m.\u001b[39;49mparameters)\n",
      "File \u001b[0;32m~/Documents/PhD-Work/packages/l96_ebm/l96_ebm/deterministic/integrator.py:96\u001b[0m, in \u001b[0;36ml96_ebm_rhs\u001b[0;34m(state, S, a0, a1, reduced_boltzman, alpha, T_ref, F, N, beta, delT)\u001b[0m\n\u001b[1;32m     94\u001b[0m x \u001b[39m=\u001b[39m state[:\u001b[39m-\u001b[39m\u001b[39m1\u001b[39m]\n\u001b[1;32m     95\u001b[0m T \u001b[39m=\u001b[39m state[\u001b[39m-\u001b[39m\u001b[39m1\u001b[39m:]\n\u001b[0;32m---> 96\u001b[0m x_rhs \u001b[39m=\u001b[39m l96_ebm_x_rhs(x, T, F, beta, T_ref, delT)\n\u001b[1;32m     97\u001b[0m T_rhs \u001b[39m=\u001b[39m l96_ebm_T_rhs(x, T, S, a0, a1, T_ref, reduced_boltzman, alpha, F)\n\u001b[1;32m     98\u001b[0m \u001b[39mreturn\u001b[39;00m np\u001b[39m.\u001b[39mappend(x_rhs, T_rhs)\n",
      "File \u001b[0;32m~/Documents/PhD-Work/packages/l96_ebm/l96_ebm/deterministic/integrator.py:50\u001b[0m, in \u001b[0;36ml96_ebm_x_rhs\u001b[0;34m(x, T, F, beta, Tref, delT)\u001b[0m\n\u001b[1;32m     49\u001b[0m \u001b[39mdef\u001b[39;00m \u001b[39ml96_ebm_x_rhs\u001b[39m(x, T, F, beta, Tref, delT):\n\u001b[0;32m---> 50\u001b[0m     \u001b[39mreturn\u001b[39;00m l96_rhs(x, F\u001b[39m=\u001b[39meffective_forcing(x, T, F, beta, Tref, delT))\n",
      "File \u001b[0;32m~/Documents/PhD-Work/packages/l96_ebm/l96_ebm/deterministic/integrator.py:45\u001b[0m, in \u001b[0;36meffective_forcing\u001b[0;34m(x, T, F, beta, Tref, delT)\u001b[0m\n\u001b[1;32m     41\u001b[0m \u001b[39mdef\u001b[39;00m \u001b[39ml96_rhs\u001b[39m(x, F\u001b[39m=\u001b[39m\u001b[39m8\u001b[39m):\n\u001b[1;32m     42\u001b[0m     \u001b[39mreturn\u001b[39;00m np\u001b[39m.\u001b[39mroll(x, \u001b[39m1\u001b[39m) \u001b[39m*\u001b[39m (np\u001b[39m.\u001b[39mroll(x, \u001b[39m-\u001b[39m\u001b[39m1\u001b[39m) \u001b[39m-\u001b[39m np\u001b[39m.\u001b[39mroll(x, \u001b[39m2\u001b[39m)) \u001b[39m-\u001b[39m x \u001b[39m+\u001b[39m F\n\u001b[0;32m---> 45\u001b[0m \u001b[39mdef\u001b[39;00m \u001b[39meffective_forcing\u001b[39m(x, T, F, beta, Tref, delT):\n\u001b[1;32m     46\u001b[0m     \u001b[39mreturn\u001b[39;00m (F \u001b[39m*\u001b[39m (\u001b[39m1\u001b[39m \u001b[39m+\u001b[39m beta \u001b[39m*\u001b[39m (T \u001b[39m-\u001b[39m Tref) \u001b[39m/\u001b[39m delT))\u001b[39m.\u001b[39mitem()\n\u001b[1;32m     49\u001b[0m \u001b[39mdef\u001b[39;00m \u001b[39ml96_ebm_x_rhs\u001b[39m(x, T, F, beta, Tref, delT):\n",
      "\u001b[0;31mKeyboardInterrupt\u001b[0m: "
     ]
    }
   ],
   "source": [
    "# Running Transient Integration\n",
    "runner = L96_EBM_Integrator(S = 7.8, T_ic = 275)\n",
    "runner.run(20)\n",
    "runner.time=0\n",
    "looker = L96_EBM_TrajectoryObserver(runner)\n",
    "looker.make_observations(int(5.e7), 0.1)\n",
    "\n",
    "# Plotting T timeseries\n",
    "fig, ax = init_2d_fax()\n",
    "looker.observations.T.plot(ax=ax)\n",
    "fig.tight_layout()\n",
    "# fig.savefig(plot_pd/'Example_Transient_Timeseries.pdf')"
   ]
  },
  {
   "cell_type": "code",
   "execution_count": null,
   "metadata": {},
   "outputs": [],
   "source": []
  }
 ],
 "metadata": {
  "kernelspec": {
   "display_name": "l96_ebm",
   "language": "python",
   "name": "python3"
  },
  "language_info": {
   "codemirror_mode": {
    "name": "ipython",
    "version": 3
   },
   "file_extension": ".py",
   "mimetype": "text/x-python",
   "name": "python",
   "nbconvert_exporter": "python",
   "pygments_lexer": "ipython3",
   "version": "3.10.9"
  },
  "orig_nbformat": 4,
  "vscode": {
   "interpreter": {
    "hash": "5fe57a62c4c10bf3a95c6a2647d47d871b8e69217ef730b6554b29c7e8c3e9f2"
   }
  }
 },
 "nbformat": 4,
 "nbformat_minor": 2
}
