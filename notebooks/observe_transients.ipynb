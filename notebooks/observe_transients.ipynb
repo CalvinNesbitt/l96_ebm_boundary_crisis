{
 "cells": [
  {
   "attachments": {},
   "cell_type": "markdown",
   "metadata": {},
   "source": [
    "# Example Transients\n",
    "\n",
    "In this notebook we plot some example transient timeseries."
   ]
  },
  {
   "attachments": {},
   "cell_type": "markdown",
   "metadata": {},
   "source": [
    "## Imports"
   ]
  },
  {
   "cell_type": "code",
   "execution_count": 1,
   "metadata": {},
   "outputs": [
    {
     "name": "stdout",
     "output_type": "stream",
     "text": [
      "/Users/cfn18/Documents/PhD-Work/Thesis-Computing/Determinisitc/l96_ebm_boundary_crisis\n"
     ]
    }
   ],
   "source": [
    "# Assume we're running from project root\n",
    "%cd .. "
   ]
  },
  {
   "cell_type": "code",
   "execution_count": 2,
   "metadata": {},
   "outputs": [],
   "source": [
    "# Local imports\n",
    "# from src.foo import bar\n",
    "\n",
    "# Custom Code Imports\n",
    "from l96_ebm.deterministic.integrator import L96_EBM_Integrator, L96_EBM_TrajectoryObserver\n",
    "from calvin_stats.plots import init_2d_fax\n",
    "\n",
    "# Other imports\n",
    "from pathlib import Path"
   ]
  },
  {
   "attachments": {},
   "cell_type": "markdown",
   "metadata": {},
   "source": [
    "## Plot/Data Locations"
   ]
  },
  {
   "cell_type": "code",
   "execution_count": 3,
   "metadata": {},
   "outputs": [],
   "source": [
    "# plot_pd = Path('plots')\n",
    "plot_pd = Path('/Users/cfn18/Documents/PhD-Work/Thesis/img/Tipping-Points/')\n",
    "data_pd = Path('data')\n",
    "config_pd = Path('cfg')"
   ]
  },
  {
   "cell_type": "code",
   "execution_count": 5,
   "metadata": {},
   "outputs": [
    {
     "name": "stderr",
     "output_type": "stream",
     "text": [
      "  0%|          | 1042/10000000 [00:02<7:06:53, 390.38it/s]\n"
     ]
    },
    {
     "ename": "KeyboardInterrupt",
     "evalue": "",
     "output_type": "error",
     "traceback": [
      "\u001b[0;31m---------------------------------------------------------------------------\u001b[0m",
      "\u001b[0;31mKeyboardInterrupt\u001b[0m                         Traceback (most recent call last)",
      "Cell \u001b[0;32mIn[5], line 6\u001b[0m\n\u001b[1;32m      4\u001b[0m runner\u001b[39m.\u001b[39mtime\u001b[39m=\u001b[39m\u001b[39m0\u001b[39m\n\u001b[1;32m      5\u001b[0m looker \u001b[39m=\u001b[39m L96_EBM_TrajectoryObserver(runner)\n\u001b[0;32m----> 6\u001b[0m looker\u001b[39m.\u001b[39;49mmake_observations(\u001b[39mint\u001b[39;49m(\u001b[39m1.e7\u001b[39;49m), \u001b[39m0.1\u001b[39;49m)\n\u001b[1;32m      8\u001b[0m \u001b[39m# Plotting T timeseries\u001b[39;00m\n\u001b[1;32m      9\u001b[0m fig, ax \u001b[39m=\u001b[39m init_2d_fax()\n",
      "File \u001b[0;32m~/Documents/PhD-Work/packages/chaos_explorer/chaos_explorer/observers/xarray.py:26\u001b[0m, in \u001b[0;36mXarrayObserver.make_observations\u001b[0;34m(self, number, frequency, timer)\u001b[0m\n\u001b[1;32m     24\u001b[0m \u001b[39mself\u001b[39m\u001b[39m.\u001b[39mlook(\u001b[39mself\u001b[39m\u001b[39m.\u001b[39mintegrator)  \u001b[39m# Initial observation\u001b[39;00m\n\u001b[1;32m     25\u001b[0m \u001b[39mfor\u001b[39;00m x \u001b[39min\u001b[39;00m tqdm(\u001b[39mrange\u001b[39m(number), disable\u001b[39m=\u001b[39m\u001b[39mnot\u001b[39;00m timer):\n\u001b[0;32m---> 26\u001b[0m     \u001b[39mself\u001b[39;49m\u001b[39m.\u001b[39;49mintegrator\u001b[39m.\u001b[39;49mrun(frequency)\n\u001b[1;32m     27\u001b[0m     \u001b[39mself\u001b[39m\u001b[39m.\u001b[39mlook(\u001b[39mself\u001b[39m\u001b[39m.\u001b[39mintegrator)\n\u001b[1;32m     28\u001b[0m \u001b[39mreturn\u001b[39;00m\n",
      "File \u001b[0;32m~/Documents/PhD-Work/packages/chaos_explorer/chaos_explorer/integrator.py:77\u001b[0m, in \u001b[0;36mOdeIntegrator.run\u001b[0;34m(self, t)\u001b[0m\n\u001b[1;32m     62\u001b[0m \u001b[39m\u001b[39m\u001b[39m\"\"\"\u001b[39;00m\n\u001b[1;32m     63\u001b[0m \u001b[39mIntegrate ODEs for a time t. This will update both .state and .time attributes.\u001b[39;00m\n\u001b[1;32m     64\u001b[0m \n\u001b[0;32m   (...)\u001b[0m\n\u001b[1;32m     73\u001b[0m \n\u001b[1;32m     74\u001b[0m \u001b[39m\"\"\"\u001b[39;00m\n\u001b[1;32m     76\u001b[0m \u001b[39m# Integration, default uses RK45 with adaptive stepping.\u001b[39;00m\n\u001b[0;32m---> 77\u001b[0m solver_return \u001b[39m=\u001b[39m solve_ivp(\n\u001b[1;32m     78\u001b[0m     \u001b[39mself\u001b[39;49m\u001b[39m.\u001b[39;49m_rhs_dt,\n\u001b[1;32m     79\u001b[0m     (\u001b[39mself\u001b[39;49m\u001b[39m.\u001b[39;49mtime, \u001b[39mself\u001b[39;49m\u001b[39m.\u001b[39;49mtime \u001b[39m+\u001b[39;49m t),\n\u001b[1;32m     80\u001b[0m     \u001b[39mself\u001b[39;49m\u001b[39m.\u001b[39;49mstate,\n\u001b[1;32m     81\u001b[0m     dense_output\u001b[39m=\u001b[39;49m\u001b[39mTrue\u001b[39;49;00m,\n\u001b[1;32m     82\u001b[0m     method\u001b[39m=\u001b[39;49m\u001b[39mself\u001b[39;49m\u001b[39m.\u001b[39;49mmethod,\n\u001b[1;32m     83\u001b[0m )\n\u001b[1;32m     85\u001b[0m \u001b[39m# Updating variables\u001b[39;00m\n\u001b[1;32m     86\u001b[0m \u001b[39mself\u001b[39m\u001b[39m.\u001b[39mstate \u001b[39m=\u001b[39m solver_return\u001b[39m.\u001b[39my[:, \u001b[39m-\u001b[39m\u001b[39m1\u001b[39m]\n",
      "File \u001b[0;32m~/opt/miniconda3/envs/l96_ebm/lib/python3.10/site-packages/scipy/integrate/_ivp/ivp.py:589\u001b[0m, in \u001b[0;36msolve_ivp\u001b[0;34m(fun, t_span, y0, method, t_eval, dense_output, events, vectorized, args, **options)\u001b[0m\n\u001b[1;32m    587\u001b[0m status \u001b[39m=\u001b[39m \u001b[39mNone\u001b[39;00m\n\u001b[1;32m    588\u001b[0m \u001b[39mwhile\u001b[39;00m status \u001b[39mis\u001b[39;00m \u001b[39mNone\u001b[39;00m:\n\u001b[0;32m--> 589\u001b[0m     message \u001b[39m=\u001b[39m solver\u001b[39m.\u001b[39;49mstep()\n\u001b[1;32m    591\u001b[0m     \u001b[39mif\u001b[39;00m solver\u001b[39m.\u001b[39mstatus \u001b[39m==\u001b[39m \u001b[39m'\u001b[39m\u001b[39mfinished\u001b[39m\u001b[39m'\u001b[39m:\n\u001b[1;32m    592\u001b[0m         status \u001b[39m=\u001b[39m \u001b[39m0\u001b[39m\n",
      "File \u001b[0;32m~/opt/miniconda3/envs/l96_ebm/lib/python3.10/site-packages/scipy/integrate/_ivp/base.py:181\u001b[0m, in \u001b[0;36mOdeSolver.step\u001b[0;34m(self)\u001b[0m\n\u001b[1;32m    179\u001b[0m \u001b[39melse\u001b[39;00m:\n\u001b[1;32m    180\u001b[0m     t \u001b[39m=\u001b[39m \u001b[39mself\u001b[39m\u001b[39m.\u001b[39mt\n\u001b[0;32m--> 181\u001b[0m     success, message \u001b[39m=\u001b[39m \u001b[39mself\u001b[39;49m\u001b[39m.\u001b[39;49m_step_impl()\n\u001b[1;32m    183\u001b[0m     \u001b[39mif\u001b[39;00m \u001b[39mnot\u001b[39;00m success:\n\u001b[1;32m    184\u001b[0m         \u001b[39mself\u001b[39m\u001b[39m.\u001b[39mstatus \u001b[39m=\u001b[39m \u001b[39m'\u001b[39m\u001b[39mfailed\u001b[39m\u001b[39m'\u001b[39m\n",
      "File \u001b[0;32m~/opt/miniconda3/envs/l96_ebm/lib/python3.10/site-packages/scipy/integrate/_ivp/rk.py:144\u001b[0m, in \u001b[0;36mRungeKutta._step_impl\u001b[0;34m(self)\u001b[0m\n\u001b[1;32m    141\u001b[0m h \u001b[39m=\u001b[39m t_new \u001b[39m-\u001b[39m t\n\u001b[1;32m    142\u001b[0m h_abs \u001b[39m=\u001b[39m np\u001b[39m.\u001b[39mabs(h)\n\u001b[0;32m--> 144\u001b[0m y_new, f_new \u001b[39m=\u001b[39m rk_step(\u001b[39mself\u001b[39;49m\u001b[39m.\u001b[39;49mfun, t, y, \u001b[39mself\u001b[39;49m\u001b[39m.\u001b[39;49mf, h, \u001b[39mself\u001b[39;49m\u001b[39m.\u001b[39;49mA,\n\u001b[1;32m    145\u001b[0m                        \u001b[39mself\u001b[39;49m\u001b[39m.\u001b[39;49mB, \u001b[39mself\u001b[39;49m\u001b[39m.\u001b[39;49mC, \u001b[39mself\u001b[39;49m\u001b[39m.\u001b[39;49mK)\n\u001b[1;32m    146\u001b[0m scale \u001b[39m=\u001b[39m atol \u001b[39m+\u001b[39m np\u001b[39m.\u001b[39mmaximum(np\u001b[39m.\u001b[39mabs(y), np\u001b[39m.\u001b[39mabs(y_new)) \u001b[39m*\u001b[39m rtol\n\u001b[1;32m    147\u001b[0m error_norm \u001b[39m=\u001b[39m \u001b[39mself\u001b[39m\u001b[39m.\u001b[39m_estimate_error_norm(\u001b[39mself\u001b[39m\u001b[39m.\u001b[39mK, h, scale)\n",
      "File \u001b[0;32m~/opt/miniconda3/envs/l96_ebm/lib/python3.10/site-packages/scipy/integrate/_ivp/rk.py:63\u001b[0m, in \u001b[0;36mrk_step\u001b[0;34m(fun, t, y, f, h, A, B, C, K)\u001b[0m\n\u001b[1;32m     61\u001b[0m K[\u001b[39m0\u001b[39m] \u001b[39m=\u001b[39m f\n\u001b[1;32m     62\u001b[0m \u001b[39mfor\u001b[39;00m s, (a, c) \u001b[39min\u001b[39;00m \u001b[39menumerate\u001b[39m(\u001b[39mzip\u001b[39m(A[\u001b[39m1\u001b[39m:], C[\u001b[39m1\u001b[39m:]), start\u001b[39m=\u001b[39m\u001b[39m1\u001b[39m):\n\u001b[0;32m---> 63\u001b[0m     dy \u001b[39m=\u001b[39m np\u001b[39m.\u001b[39;49mdot(K[:s]\u001b[39m.\u001b[39;49mT, a[:s]) \u001b[39m*\u001b[39m h\n\u001b[1;32m     64\u001b[0m     K[s] \u001b[39m=\u001b[39m fun(t \u001b[39m+\u001b[39m c \u001b[39m*\u001b[39m h, y \u001b[39m+\u001b[39m dy)\n\u001b[1;32m     66\u001b[0m y_new \u001b[39m=\u001b[39m y \u001b[39m+\u001b[39m h \u001b[39m*\u001b[39m np\u001b[39m.\u001b[39mdot(K[:\u001b[39m-\u001b[39m\u001b[39m1\u001b[39m]\u001b[39m.\u001b[39mT, B)\n",
      "File \u001b[0;32m<__array_function__ internals>:2\u001b[0m, in \u001b[0;36mdot\u001b[0;34m(*args, **kwargs)\u001b[0m\n",
      "\u001b[0;31mKeyboardInterrupt\u001b[0m: "
     ]
    }
   ],
   "source": [
    "# Running Transient Integration\n",
    "runner = L96_EBM_Integrator(S = 7.8, T_ic = 275)\n",
    "runner.run(20)\n",
    "runner.time=0\n",
    "looker = L96_EBM_TrajectoryObserver(runner)\n",
    "looker.make_observations(int(1.e7), 0.1)\n",
    "\n",
    "# Plotting T timeseries\n",
    "fig, ax = init_2d_fax()\n",
    "looker.observations.T.plot(ax=ax)\n",
    "fig.tight_layout()\n",
    "# fig.savefig(plot_pd/'Example_Transient_Timeseries.pdf')"
   ]
  },
  {
   "cell_type": "code",
   "execution_count": null,
   "metadata": {},
   "outputs": [],
   "source": []
  }
 ],
 "metadata": {
  "kernelspec": {
   "display_name": "l96_ebm",
   "language": "python",
   "name": "python3"
  },
  "language_info": {
   "codemirror_mode": {
    "name": "ipython",
    "version": 3
   },
   "file_extension": ".py",
   "mimetype": "text/x-python",
   "name": "python",
   "nbconvert_exporter": "python",
   "pygments_lexer": "ipython3",
   "version": "3.10.9"
  },
  "orig_nbformat": 4,
  "vscode": {
   "interpreter": {
    "hash": "5fe57a62c4c10bf3a95c6a2647d47d871b8e69217ef730b6554b29c7e8c3e9f2"
   }
  }
 },
 "nbformat": 4,
 "nbformat_minor": 2
}
